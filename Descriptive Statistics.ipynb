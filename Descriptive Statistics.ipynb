{
 "cells": [
  {
   "cell_type": "markdown",
   "metadata": {},
   "source": [
    "# 1. Descriptive Statistics\n",
    "\n",
    "-  Descriptive statistics is about summarizing and describing data.\n",
    "- It does not make predictions or generalizations, it only tells what the data looks like.\n",
    "\n",
    "### Main concepts:\n",
    "\n",
    "- Measures of Central Tendency → Mean, Median, Mode (represent \"typical\" value).\n",
    "\n",
    "- Measures of Dispersion → Range, Variance, Standard Deviation (spread of data).\n",
    "\n",
    "- Shape of Distribution → Skewness (left/right leaning), Kurtosis (peaked/flat).\n",
    "\n",
    "- Visualization → Histograms, Boxplots, Bar charts."
   ]
  },
  {
   "cell_type": "markdown",
   "metadata": {},
   "source": [
    "# Measure of Central Tendency"
   ]
  },
  {
   "cell_type": "markdown",
   "metadata": {},
   "source": [
    "### Mean\n",
    "- Definition: Sum of all values ÷ Number of values\n",
    "- Example: Suppose the daily sales of a shop over 5 days are: [100, 120, 140, 160, 180]."
   ]
  },
  {
   "cell_type": "code",
   "execution_count": 1,
   "metadata": {},
   "outputs": [
    {
     "data": {
      "text/plain": [
       "140.0"
      ]
     },
     "execution_count": 1,
     "metadata": {},
     "output_type": "execute_result"
    }
   ],
   "source": [
    "sales = [100, 120, 140, 160, 180]\n",
    "import numpy as np\n",
    "np.mean(sales)"
   ]
  },
  {
   "cell_type": "code",
   "execution_count": 8,
   "metadata": {},
   "outputs": [
    {
     "name": "stdout",
     "output_type": "stream",
     "text": [
      "Mean is: 140.0\n"
     ]
    }
   ],
   "source": [
    "# Mean\n",
    "def mean(n):\n",
    "    get_len = len(n)\n",
    "    get_sum = sum(n)\n",
    "    mean = get_sum/get_len\n",
    "    return mean\n",
    "print(\"Mean is:\",mean([100, 120, 140, 160, 180]))"
   ]
  },
  {
   "cell_type": "markdown",
   "metadata": {},
   "source": [
    "### Median (Middle Value)\n",
    "\n",
    "- Definition: The value that lies in the middle when data is sorted."
   ]
  },
  {
   "cell_type": "code",
   "execution_count": 3,
   "metadata": {},
   "outputs": [
    {
     "data": {
      "text/plain": [
       "32000.0"
      ]
     },
     "execution_count": 3,
     "metadata": {},
     "output_type": "execute_result"
    }
   ],
   "source": [
    "salaries = [25000, 28000, 30000, 32000, 35000, 36000, 50000]\n",
    "import numpy as np\n",
    "np.median(salaries)"
   ]
  },
  {
   "cell_type": "markdown",
   "metadata": {},
   "source": [
    "### Mode (Most Frequent Value)\n",
    "- Definition: The value that occurs most often.\n",
    "- Example: Suppose in a class, students’ favorite fruit choices are:"
   ]
  },
  {
   "cell_type": "code",
   "execution_count": 5,
   "metadata": {},
   "outputs": [
    {
     "name": "stdout",
     "output_type": "stream",
     "text": [
      "Mode: Apple\n"
     ]
    }
   ],
   "source": [
    "fruits = [\"Apple\", \"Banana\", \"Apple\", \"Orange\", \"Apple\", \"Banana\"]\n",
    "from statistics import mode\n",
    "mode_val = mode(fruits)\n",
    "print(\"Mode:\",mode_val)"
   ]
  },
  {
   "cell_type": "markdown",
   "metadata": {},
   "source": [
    "### Use case:\n",
    "    - Handling missing values:\n",
    "    - Data is numerical & normally distributed Mean Preserves the overall data distribution. \n",
    "    - Data has outliers or skewed distribution Median Reduces the impact of extreme values. \n",
    "    - Data is categorical (e.g., colors, cities) Mode Keeps the most frequent value."
   ]
  },
  {
   "cell_type": "markdown",
   "metadata": {},
   "source": [
    "### Measure of Dispersion"
   ]
  },
  {
   "cell_type": "markdown",
   "metadata": {},
   "source": [
    "### Range\n",
    "- Definition: Difference between maximum and minimum values.\n",
    "- Example: Suppose the test scores are [50, 60, 70, 80, 90].\n",
    "\n",
    "- Range = 90 − 50 = 40"
   ]
  },
  {
   "cell_type": "code",
   "execution_count": 9,
   "metadata": {},
   "outputs": [
    {
     "name": "stdout",
     "output_type": "stream",
     "text": [
      "Range is: 40\n"
     ]
    }
   ],
   "source": [
    "score = [50,60,70,80,90]\n",
    "import numpy as np\n",
    "range_val = np.max(score) - np.min(score)\n",
    "print(\"Range is:\",range_val)"
   ]
  },
  {
   "cell_type": "markdown",
   "metadata": {},
   "source": [
    "### Variance\n",
    "\n",
    "- Definition: Average of squared differences from the mean."
   ]
  },
  {
   "cell_type": "code",
   "execution_count": 11,
   "metadata": {},
   "outputs": [
    {
     "name": "stdout",
     "output_type": "stream",
     "text": [
      "Variance is: 200.0\n"
     ]
    }
   ],
   "source": [
    "import numpy as np\n",
    "variance = np.var(score)\n",
    "print(\"Variance is:\", variance)"
   ]
  },
  {
   "cell_type": "markdown",
   "metadata": {},
   "source": [
    "### Standard Deviation\n",
    "\n",
    "- Definition: Square root of variance, gives spread in the same unit as data."
   ]
  },
  {
   "cell_type": "code",
   "execution_count": 12,
   "metadata": {},
   "outputs": [
    {
     "name": "stdout",
     "output_type": "stream",
     "text": [
      "Std is: 14.142135623730951\n"
     ]
    }
   ],
   "source": [
    "import numpy as np\n",
    "std = np.std(score)\n",
    "print(\"Std is:\",std)"
   ]
  },
  {
   "cell_type": "markdown",
   "metadata": {},
   "source": [
    "# Shape of Distribution"
   ]
  },
  {
   "cell_type": "markdown",
   "metadata": {},
   "source": [
    "### Skewness\n",
    "\n",
    "- It measures the asymmetry of the distribution.\n",
    "\n",
    "    - Skewness = 0 → Symmetrical (like Normal distribution).\n",
    "\n",
    "    - Skewness > 0 → Positively skewed (right tail longer, e.g. income).\n",
    "\n",
    "    - Skewness < 0 → Negatively skewed (left tail longer).\n",
    "\n",
    "### 2. Kurtosis\n",
    "\n",
    "- It measures the peakedness (tailedness) of the distribution.\n",
    "\n",
    "    - Kurtosis ≈ 3 → Normal distribution (mesokurtic).\n",
    "\n",
    "    - Kurtosis > 3 → Leptokurtic (sharper peak, heavier tails).\n",
    "\n",
    "    - Kurtosis < 3 → Platykurtic (flatter peak, lighter tails)."
   ]
  },
  {
   "cell_type": "markdown",
   "metadata": {},
   "source": [
    "- In real-world ML:\n",
    "\n",
    "- Skewness affects transformations (log-transform for right-skewed).\n",
    "\n",
    "- Kurtosis helps detect outliers and fat-tailed risks."
   ]
  },
  {
   "cell_type": "markdown",
   "metadata": {},
   "source": [
    "- Skewness > 0 → Right-skewed (because of high incomes 120–200).\n",
    "\n",
    "- Kurtosis > 3 → Heavier tails (outliers pull distribution)."
   ]
  },
  {
   "cell_type": "code",
   "execution_count": 14,
   "metadata": {},
   "outputs": [
    {
     "name": "stdout",
     "output_type": "stream",
     "text": [
      "Skewness = 1.3712664405560242\n",
      "Kurtosis = 3.4045011205147784\n"
     ]
    },
    {
     "data": {
      "image/png": "[encoded data removed]",
      "text/plain": [
       "<Figure size 432x288 with 1 Axes>"
      ]
     },
     "metadata": {
      "needs_background": "light"
     },
     "output_type": "display_data"
    }
   ],
   "source": [
    "import numpy as np\n",
    "import pandas as pd\n",
    "import matplotlib.pyplot as plt\n",
    "from scipy.stats import skew, kurtosis\n",
    "\n",
    "# Example dataset (incomes, positively skewed)\n",
    "data = [20, 22, 25, 30, 32, 35, 40, 45, 50, 120, 150, 200]\n",
    "\n",
    "# Convert to Series\n",
    "s = pd.Series(data)\n",
    "\n",
    "# Calculate skewness and kurtosis\n",
    "skew_val = skew(s)\n",
    "kurt_val = kurtosis(s, fisher=False)  # fisher=False → normal dist = 3\n",
    "\n",
    "print(\"Skewness =\", skew_val)\n",
    "print(\"Kurtosis =\", kurt_val)\n",
    "\n",
    "# Plot histogram\n",
    "plt.figure(figsize=(6,4))\n",
    "plt.hist(s, bins=8, color=\"skyblue\", edgecolor=\"black\", alpha=0.7)\n",
    "plt.title(\"Distribution Shape (Skewness & Kurtosis)\")\n",
    "plt.xlabel(\"Values\")\n",
    "plt.ylabel(\"Frequency\")\n",
    "plt.axvline(s.mean(), color=\"red\", linestyle=\"--\", label=f\"Mean = {s.mean():.1f}\")\n",
    "plt.legend()\n",
    "plt.show()"
   ]
  },
  {
   "cell_type": "markdown",
   "metadata": {},
   "source": [
    "### Percentiles"
   ]
  },
  {
   "cell_type": "markdown",
   "metadata": {},
   "source": [
    "- Percentiles & Quartiles\n",
    "\n",
    "- 25th percentile (Q1), 50th (Median), 75th (Q3).\n",
    "\n",
    "- Interquartile Range (IQR = Q3 − Q1)."
   ]
  },
  {
   "cell_type": "code",
   "execution_count": 15,
   "metadata": {},
   "outputs": [
    {
     "data": {
      "text/plain": [
       "60.0"
      ]
     },
     "execution_count": 15,
     "metadata": {},
     "output_type": "execute_result"
    }
   ],
   "source": [
    "import numpy as np\n",
    "score = [50,60,70,80,90]\n",
    "np.percentile(score,25) # 25th percentile: Q1"
   ]
  },
  {
   "cell_type": "code",
   "execution_count": 16,
   "metadata": {},
   "outputs": [
    {
     "data": {
      "text/plain": [
       "70.0"
      ]
     },
     "execution_count": 16,
     "metadata": {},
     "output_type": "execute_result"
    }
   ],
   "source": [
    "np.percentile(score,50) # median "
   ]
  },
  {
   "cell_type": "code",
   "execution_count": 17,
   "metadata": {},
   "outputs": [
    {
     "data": {
      "text/plain": [
       "80.0"
      ]
     },
     "execution_count": 17,
     "metadata": {},
     "output_type": "execute_result"
    }
   ],
   "source": [
    "np.percentile(score,75) # 75th percentile: Q3"
   ]
  },
  {
   "cell_type": "code",
   "execution_count": 18,
   "metadata": {},
   "outputs": [
    {
     "name": "stdout",
     "output_type": "stream",
     "text": [
      "IQR is: 20.0\n"
     ]
    }
   ],
   "source": [
    "# IQR: Q3 - Q1\n",
    "IQR = np.percentile(score,75) - np.percentile(score,25)\n",
    "print(\"IQR is:\",IQR)"
   ]
  },
  {
   "cell_type": "code",
   "execution_count": 20,
   "metadata": {},
   "outputs": [
    {
     "name": "stdout",
     "output_type": "stream",
     "text": [
      "25th Percentile = 60.0\n",
      "50th Percentile (Median) = 70.0\n",
      "75th Percentile = 80.0\n",
      "IQR = 20.0\n"
     ]
    }
   ],
   "source": [
    "print(\"25th Percentile =\", np.percentile(score, 25))\n",
    "print(\"50th Percentile (Median) =\", np.percentile(score, 50))\n",
    "print(\"75th Percentile =\", np.percentile(score, 75))\n",
    "print(\"IQR =\", np.percentile(score, 75) - np.percentile(score, 25))"
   ]
  },
  {
   "cell_type": "markdown",
   "metadata": {},
   "source": [
    "### Five-Number Summary\n",
    "\n",
    "- Minimum, Q1, Median, Q3, Maximum."
   ]
  },
  {
   "cell_type": "code",
   "execution_count": 21,
   "metadata": {},
   "outputs": [
    {
     "name": "stdout",
     "output_type": "stream",
     "text": [
      "{'Min': 50, 'Q1': 60.0, 'Median': 70.0, 'Q3': 80.0, 'Max': 90}\n"
     ]
    }
   ],
   "source": [
    "summary = {\n",
    "    \"Min\": np.min(score),\n",
    "    \"Q1\": np.percentile(score, 25),\n",
    "    \"Median\": np.median(score),\n",
    "    \"Q3\": np.percentile(score, 75),\n",
    "    \"Max\": np.max(score)\n",
    "}\n",
    "print(summary)"
   ]
  },
  {
   "cell_type": "markdown",
   "metadata": {},
   "source": [
    "### Summary of Descriptive Statistics\n",
    "\n",
    "- Central Tendency → Mean, Median, Mode\n",
    "\n",
    "- Dispersion → Range, Variance, Std Dev\n",
    "\n",
    "- Shape → Skewness, Kurtosis\n",
    "\n",
    "- Percentiles → Quartiles, IQR\n",
    "\n",
    "- Five-Number Summary → (Min, Q1, Median, Q3, Max)"
   ]
  },
  {
   "cell_type": "markdown",
   "metadata": {},
   "source": [
    "### Real-world Use case"
   ]
  },
  {
   "cell_type": "code",
   "execution_count": 22,
   "metadata": {},
   "outputs": [],
   "source": [
    "# Example Dataset: House Prices (in Lakhs)\n",
    "import numpy as np\n",
    "import pandas as pd\n",
    "from scipy.stats import skew, kurtosis\n",
    "\n",
    "# Sample dataset - House Prices in Lakhs\n",
    "house_prices = [2500000, 3000000, 2800000, 3500000, 4000000, 4500000, 5000000, 6000000, 7000000, 15000000, 20000000]\n",
    "\n",
    "data = pd.Series(house_prices)"
   ]
  },
  {
   "cell_type": "code",
   "execution_count": 23,
   "metadata": {},
   "outputs": [
    {
     "name": "stdout",
     "output_type": "stream",
     "text": [
      "Mean = 6663636.363636363\n",
      "Median = 4500000.0\n",
      "Mode = 2500000\n"
     ]
    }
   ],
   "source": [
    "# 1. Measures of Central Tendency\n",
    "mean_val = data.mean()\n",
    "median_val = data.median()\n",
    "mode_val = data.mode()[0]\n",
    "\n",
    "print(\"Mean =\", mean_val)\n",
    "print(\"Median =\", median_val)\n",
    "print(\"Mode =\", mode_val)"
   ]
  },
  {
   "cell_type": "markdown",
   "metadata": {},
   "source": [
    "### Interpretation:\n",
    "\n",
    "- Mean will be pulled up because of expensive houses (150, 200).\n",
    "\n",
    "- Median is more reliable here.\n",
    "\n",
    "- Mode may not exist (or just one value)."
   ]
  },
  {
   "cell_type": "code",
   "execution_count": 26,
   "metadata": {},
   "outputs": [
    {
     "name": "stdout",
     "output_type": "stream",
     "text": [
      "Range = 17500000\n",
      "Variance = 28922314049586.773\n",
      "Std Deviation = 5377947.010671152\n"
     ]
    }
   ],
   "source": [
    "## Measure of Dispersion\n",
    "range_val = data.max() - data.min()\n",
    "var_val = data.var(ddof=0)   # population variance\n",
    "std_val = data.std(ddof=0)\n",
    "\n",
    "print(\"Range =\", range_val)\n",
    "print(\"Variance =\", var_val)\n",
    "print(\"Std Deviation =\", std_val)"
   ]
  },
  {
   "cell_type": "markdown",
   "metadata": {},
   "source": [
    "### Interpretation:\n",
    "\n",
    "- Range is very large → data is spread.\n",
    "\n",
    "- Std Dev is high → huge variability in prices."
   ]
  },
  {
   "cell_type": "code",
   "execution_count": 27,
   "metadata": {},
   "outputs": [
    {
     "name": "stdout",
     "output_type": "stream",
     "text": [
      "Skewness = 1.5819939922637536\n",
      "Kurtosis = 4.058798501093494\n"
     ]
    }
   ],
   "source": [
    "### 3. Shape of Distribution\n",
    "skew_val = skew(data)\n",
    "kurt_val = kurtosis(data, fisher=False)\n",
    "\n",
    "print(\"Skewness =\", skew_val)\n",
    "print(\"Kurtosis =\", kurt_val)"
   ]
  },
  {
   "cell_type": "markdown",
   "metadata": {},
   "source": [
    "### Interpretation:\n",
    "\n",
    "- Skewness > 0 → Right skew (few very high-priced houses).\n",
    "\n",
    "- Kurtosis > 3 → Heavy tails (outliers exist)."
   ]
  },
  {
   "cell_type": "code",
   "execution_count": 28,
   "metadata": {},
   "outputs": [
    {
     "name": "stdout",
     "output_type": "stream",
     "text": [
      "Q1 = 3250000.0 Q2 (Median) = 4500000.0 Q3 = 6500000.0 IQR = 3250000.0\n"
     ]
    }
   ],
   "source": [
    "## Percentiles & IQR\n",
    "q1 = np.percentile(data, 25)\n",
    "q2 = np.percentile(data, 50)  # Median\n",
    "q3 = np.percentile(data, 75)\n",
    "iqr = q3 - q1\n",
    "\n",
    "print(\"Q1 =\", q1, \"Q2 (Median) =\", q2, \"Q3 =\", q3, \"IQR =\", iqr)"
   ]
  },
  {
   "cell_type": "markdown",
   "metadata": {},
   "source": [
    "### Interpretation:\n",
    "\n",
    "- IQR captures the middle 50% of house prices.\n",
    "\n",
    "- Outliers (150, 200) lie outside Q3 + 1.5*IQR."
   ]
  },
  {
   "cell_type": "code",
   "execution_count": 29,
   "metadata": {},
   "outputs": [
    {
     "name": "stdout",
     "output_type": "stream",
     "text": [
      "{'Minimum': 2500000, 'Q1': 3250000.0, 'Median': 4500000.0, 'Q3': 6500000.0, 'Maximum': 20000000}\n"
     ]
    }
   ],
   "source": [
    "## Five-Number Summary\n",
    "summary = {\n",
    "    \"Minimum\": data.min(),\n",
    "    \"Q1\": q1,\n",
    "    \"Median\": q2,\n",
    "    \"Q3\": q3,\n",
    "    \"Maximum\": data.max()\n",
    "}\n",
    "print(summary)"
   ]
  },
  {
   "cell_type": "markdown",
   "metadata": {},
   "source": [
    "### Interpretation:\n",
    "- Easy way to summarize dataset for boxplots"
   ]
  },
  {
   "cell_type": "code",
   "execution_count": 30,
   "metadata": {},
   "outputs": [
    {
     "data": {
      "image/png": "[encoded data removed]",
      "text/plain": [
       "<Figure size 720x288 with 2 Axes>"
      ]
     },
     "metadata": {
      "needs_background": "light"
     },
     "output_type": "display_data"
    }
   ],
   "source": [
    "## Visualization (Histogram + Boxplot)\n",
    "import matplotlib.pyplot as plt\n",
    "\n",
    "plt.figure(figsize=(10,4))\n",
    "\n",
    "# Histogram\n",
    "plt.subplot(1,2,1)\n",
    "plt.hist(data, bins=8, color=\"skyblue\", edgecolor=\"black\")\n",
    "plt.title(\"House Prices Distribution\")\n",
    "plt.xlabel(\"Price (Lakhs)\")\n",
    "plt.ylabel(\"Frequency\")\n",
    "\n",
    "# Boxplot\n",
    "plt.subplot(1,2,2)\n",
    "plt.boxplot(data, vert=False)\n",
    "plt.title(\"Boxplot of House Prices\")\n",
    "\n",
    "plt.show()"
   ]
  },
  {
   "cell_type": "markdown",
   "metadata": {},
   "source": [
    "### Insights from this dataset:\n",
    "\n",
    "- Mean > Median → Right-skewed (few costly houses).\n",
    "\n",
    "- High Std Dev & Range → Prices vary a lot across city.\n",
    "\n",
    "- Outliers (150, 200 Lakhs) visible in boxplot.\n",
    "\n",
    "- IQR (Q3-Q1) shows most houses are between ~30–60 Lakhs."
   ]
  },
  {
   "cell_type": "code",
   "execution_count": 31,
   "metadata": {},
   "outputs": [],
   "source": [
    "income = [5000,7000,5500,7500,8000,50000,75000]"
   ]
  },
  {
   "cell_type": "code",
   "execution_count": 32,
   "metadata": {},
   "outputs": [],
   "source": [
    "import numpy as np\n",
    "from scipy.stats import skew,kurtosis"
   ]
  },
  {
   "cell_type": "code",
   "execution_count": 34,
   "metadata": {},
   "outputs": [
    {
     "name": "stdout",
     "output_type": "stream",
     "text": [
      "Skewness is : 1.1521208777835032\n",
      "Kurtosis is : 2.5875835260519855\n"
     ]
    }
   ],
   "source": [
    "print(\"Skewness is :\",skew(income))\n",
    "print(\"Kurtosis is :\",kurtosis(income,fisher=False))"
   ]
  },
  {
   "cell_type": "markdown",
   "metadata": {},
   "source": [
    "### Insight the Data"
   ]
  },
  {
   "cell_type": "markdown",
   "metadata": {},
   "source": [
    "- Skewness = 1\n",
    "- Right Skewed (few are very high income)"
   ]
  },
  {
   "cell_type": "markdown",
   "metadata": {},
   "source": [
    "- If Kurtosis = 2\n",
    "\n",
    "- That means:\n",
    "\n",
    "- The distribution is Platykurtic.\n",
    "\n",
    "- It has a flatter peak compared to a normal distribution.\n",
    "\n",
    "- The tails are lighter → fewer extreme values (outliers).\n",
    "\n",
    "- Data is more uniformly spread out."
   ]
  },
  {
   "cell_type": "code",
   "execution_count": null,
   "metadata": {},
   "outputs": [],
   "source": []
  },
  {
   "cell_type": "code",
   "execution_count": null,
   "metadata": {},
   "outputs": [],
   "source": []
  }
 ],
 "metadata": {
  "kernelspec": {
   "display_name": "Python 3",
   "language": "python",
   "name": "python3"
  },
  "language_info": {
   "codemirror_mode": {
    "name": "ipython",
    "version": 3
   },
   "file_extension": ".py",
   "mimetype": "text/x-python",
   "name": "python",
   "nbconvert_exporter": "python",
   "pygments_lexer": "ipython3",
   "version": "3.8.3"
  }
 },
 "nbformat": 4,
 "nbformat_minor": 4
}
